{
 "cells": [
  {
   "cell_type": "code",
   "execution_count": 1,
   "metadata": {},
   "outputs": [],
   "source": [
    "import sys\n",
    "import os\n",
    "\n",
    "# Add project root to sys.path\n",
    "project_root = os.path.abspath(os.path.join(os.getcwd(), '..'))\n",
    "if project_root not in sys.path:\n",
    "    sys.path.append(project_root)"
   ]
  },
  {
   "cell_type": "code",
   "execution_count": 2,
   "metadata": {},
   "outputs": [],
   "source": [
    "from forcateri.model.dartsmodels.dartstcnmodel import DartsTCNModel\n",
    "from forcateri.baltbestapi.baltbestaggregatedapidata import BaltBestAggregatedAPIData\n",
    "import pandas as pd\n",
    "from darts.models import TCNModel\n",
    "from darts.utils.likelihood_models import QuantileRegression\n",
    "import forcateri"
   ]
  },
  {
   "cell_type": "code",
   "execution_count": 3,
   "metadata": {},
   "outputs": [
    {
     "data": {
      "text/plain": [
       "<module 'forcateri.baltbestapi.baltbestaggregatedapidata' from '/home/user/DFKI/forcateri/forcateri/baltbestapi/baltbestaggregatedapidata.py'>"
      ]
     },
     "execution_count": 3,
     "metadata": {},
     "output_type": "execute_result"
    }
   ],
   "source": [
    "import importlib\n",
    "importlib.reload(forcateri)\n",
    "importlib.reload(forcateri.model.dartsmodels.dartstcnmodel)\n",
    "importlib.reload(forcateri.baltbestapi.baltbestaggregatedapidata)"
   ]
  },
  {
   "cell_type": "code",
   "execution_count": 4,
   "metadata": {},
   "outputs": [],
   "source": [
    "model = TCNModel(\n",
    "    input_chunk_length=7,\n",
    "    output_chunk_length=5,  \n",
    "    dropout=0.1,            \n",
    "    kernel_size=3,          \n",
    "    batch_size=32,          \n",
    "    n_epochs=50,           \n",
    "    random_state=42,\n",
    "    num_filters=5,\n",
    "    likelihood=QuantileRegression([0.1, 0.5, 0.9]),\n",
    "    #pl_trainer_kwargs = trainer_kwargs    \n",
    ")"
   ]
  },
  {
   "cell_type": "code",
   "execution_count": 5,
   "metadata": {},
   "outputs": [],
   "source": [
    "baltbest = BaltBestAggregatedAPIData(name='test', url=\"baltbest_url\", local_copy=\"/home/user/DFKI/forcateri/_data/showcase_data.csv\")"
   ]
  },
  {
   "cell_type": "code",
   "execution_count": 6,
   "metadata": {},
   "outputs": [],
   "source": [
    "baltbest._fetch_from_cache()"
   ]
  },
  {
   "cell_type": "code",
   "execution_count": 7,
   "metadata": {},
   "outputs": [],
   "source": [
    "observed = ['temperature_1_max','temperature_2_max', 'temperature_room_avg']"
   ]
  },
  {
   "cell_type": "code",
   "execution_count": 8,
   "metadata": {},
   "outputs": [],
   "source": [
    "baltbest._separate_ts(target='q_hca', known='temperature_outdoor_avg', observed=observed)"
   ]
  },
  {
   "cell_type": "code",
   "execution_count": 9,
   "metadata": {},
   "outputs": [
    {
     "data": {
      "text/html": [
       "<div>\n",
       "<style scoped>\n",
       "    .dataframe tbody tr th:only-of-type {\n",
       "        vertical-align: middle;\n",
       "    }\n",
       "\n",
       "    .dataframe tbody tr th {\n",
       "        vertical-align: top;\n",
       "    }\n",
       "\n",
       "    .dataframe thead tr th {\n",
       "        text-align: left;\n",
       "    }\n",
       "\n",
       "    .dataframe thead tr:last-of-type th {\n",
       "        text-align: right;\n",
       "    }\n",
       "</style>\n",
       "<table border=\"1\" class=\"dataframe\">\n",
       "  <thead>\n",
       "    <tr>\n",
       "      <th></th>\n",
       "      <th>feature</th>\n",
       "      <th>temperature_outdoor_avg</th>\n",
       "    </tr>\n",
       "    <tr>\n",
       "      <th></th>\n",
       "      <th>representation</th>\n",
       "      <th>value</th>\n",
       "    </tr>\n",
       "    <tr>\n",
       "      <th>offset</th>\n",
       "      <th>time_stamp</th>\n",
       "      <th></th>\n",
       "    </tr>\n",
       "  </thead>\n",
       "  <tbody>\n",
       "    <tr>\n",
       "      <th rowspan=\"11\" valign=\"top\">0 days</th>\n",
       "      <th>2021-01-01 00:00:00+00:00</th>\n",
       "      <td>NaN</td>\n",
       "    </tr>\n",
       "    <tr>\n",
       "      <th>2021-01-01 01:00:00+00:00</th>\n",
       "      <td>NaN</td>\n",
       "    </tr>\n",
       "    <tr>\n",
       "      <th>2021-01-01 02:00:00+00:00</th>\n",
       "      <td>NaN</td>\n",
       "    </tr>\n",
       "    <tr>\n",
       "      <th>2021-01-01 03:00:00+00:00</th>\n",
       "      <td>NaN</td>\n",
       "    </tr>\n",
       "    <tr>\n",
       "      <th>2021-01-01 04:00:00+00:00</th>\n",
       "      <td>NaN</td>\n",
       "    </tr>\n",
       "    <tr>\n",
       "      <th>...</th>\n",
       "      <td>...</td>\n",
       "    </tr>\n",
       "    <tr>\n",
       "      <th>2021-01-09 19:00:00+00:00</th>\n",
       "      <td>NaN</td>\n",
       "    </tr>\n",
       "    <tr>\n",
       "      <th>2021-01-09 20:00:00+00:00</th>\n",
       "      <td>NaN</td>\n",
       "    </tr>\n",
       "    <tr>\n",
       "      <th>2021-01-09 21:00:00+00:00</th>\n",
       "      <td>NaN</td>\n",
       "    </tr>\n",
       "    <tr>\n",
       "      <th>2021-01-09 22:00:00+00:00</th>\n",
       "      <td>NaN</td>\n",
       "    </tr>\n",
       "    <tr>\n",
       "      <th>2021-01-09 23:00:00+00:00</th>\n",
       "      <td>NaN</td>\n",
       "    </tr>\n",
       "  </tbody>\n",
       "</table>\n",
       "<p>216 rows × 1 columns</p>\n",
       "</div>"
      ],
      "text/plain": [
       "feature                          temperature_outdoor_avg\n",
       "representation                                     value\n",
       "offset time_stamp                                       \n",
       "0 days 2021-01-01 00:00:00+00:00                     NaN\n",
       "       2021-01-01 01:00:00+00:00                     NaN\n",
       "       2021-01-01 02:00:00+00:00                     NaN\n",
       "       2021-01-01 03:00:00+00:00                     NaN\n",
       "       2021-01-01 04:00:00+00:00                     NaN\n",
       "...                                                  ...\n",
       "       2021-01-09 19:00:00+00:00                     NaN\n",
       "       2021-01-09 20:00:00+00:00                     NaN\n",
       "       2021-01-09 21:00:00+00:00                     NaN\n",
       "       2021-01-09 22:00:00+00:00                     NaN\n",
       "       2021-01-09 23:00:00+00:00                     NaN\n",
       "\n",
       "[216 rows x 1 columns]"
      ]
     },
     "execution_count": 9,
     "metadata": {},
     "output_type": "execute_result"
    }
   ],
   "source": [
    "baltbest.known[486]"
   ]
  },
  {
   "cell_type": "code",
   "execution_count": 10,
   "metadata": {},
   "outputs": [],
   "source": [
    "from forcateri.model.dartsmodels.dartsmodeladapter import DartsModelAdapter\n",
    "mm = DartsModelAdapter(model=model,target=baltbest.target, known=baltbest.known, observed=baltbest.observed, forecast_horizon=5)"
   ]
  }
 ],
 "metadata": {
  "kernelspec": {
   "display_name": "venv",
   "language": "python",
   "name": "python3"
  },
  "language_info": {
   "codemirror_mode": {
    "name": "ipython",
    "version": 3
   },
   "file_extension": ".py",
   "mimetype": "text/x-python",
   "name": "python",
   "nbconvert_exporter": "python",
   "pygments_lexer": "ipython3",
   "version": "3.12.3"
  }
 },
 "nbformat": 4,
 "nbformat_minor": 2
}
