{
 "cells": [
  {
   "cell_type": "code",
   "execution_count": null,
   "metadata": {},
   "outputs": [],
   "source": [
    "import sys\n",
    "import os\n",
    "\n",
    "# Add project root to sys.path\n",
    "project_root = os.path.abspath(os.path.join(os.getcwd(), '..'))\n",
    "if project_root not in sys.path:\n",
    "    sys.path.append(project_root)"
   ]
  },
  {
   "cell_type": "code",
   "execution_count": null,
   "metadata": {},
   "outputs": [],
   "source": [
    "from forcateri.model.dartsmodels.dartstcnmodel import DartsTCNModel\n",
    "from forcateri.baltbestapi.baltbestaggregatedapidata import BaltBestAggregatedAPIData\n",
    "import pandas as pd\n",
    "from forcateri.data.dataprovider import DataProvider, SeriesRole\n",
    "from darts.models import TCNModel\n",
    "from darts.utils.likelihood_models import QuantileRegression\n",
    "import forcateri"
   ]
  },
  {
   "cell_type": "code",
   "execution_count": null,
   "metadata": {},
   "outputs": [],
   "source": [
    "%reload_ext autoreload"
   ]
  },
  {
   "cell_type": "code",
   "execution_count": null,
   "metadata": {},
   "outputs": [],
   "source": [
    "baltbest = BaltBestAggregatedAPIData(\n",
    "    name='test', \n",
    "    url=\"baltbest_url\", \n",
    "    local_copy=\"/home/user/DFKI/forcateri/_data/showcase_data.csv\",\n",
    "    target = 'q_hca',\n",
    "    group_col = 'room_id',\n",
    "    time_col = 'datetime',\n",
    "    known = 'temperature_outdoor_avg',\n",
    "    observed = ['temperature_1_max', 'temperature_2_max','temperature_room_avg'],)"
   ]
  },
  {
   "cell_type": "code",
   "execution_count": null,
   "metadata": {},
   "outputs": [],
   "source": [
    "#baltbest.get_data()"
   ]
  },
  {
   "cell_type": "code",
   "execution_count": null,
   "metadata": {},
   "outputs": [],
   "source": [
    "from forcateri.data.timeseries import TimeSeries"
   ]
  },
  {
   "cell_type": "code",
   "execution_count": null,
   "metadata": {},
   "outputs": [],
   "source": [
    "roles = {\n",
    "    'q_hca': SeriesRole.TARGET, \n",
    "    'temperature_outdoor_avg':SeriesRole.KNOWN, \n",
    "    'temperature_1_max':SeriesRole.OBSERVED, \n",
    "    'temperature_2_max':SeriesRole.OBSERVED,\n",
    "    'temperature_room_avg':SeriesRole.OBSERVED,}\n",
    "#['temperature_1_max', 'temperature_2_max','temperature_room_avg']"
   ]
  },
  {
   "cell_type": "code",
   "execution_count": null,
   "metadata": {},
   "outputs": [],
   "source": [
    "start = pd.Timestamp(2021, 1, 3, 4,tz=0)\n",
    "end = pd.Timestamp(2021, 1, 8, 4,tz=0)\n",
    "dataprovider = DataProvider(data_sources=[baltbest], roles=roles,splits=(100, 150))"
   ]
  },
  {
   "cell_type": "code",
   "execution_count": null,
   "metadata": {},
   "outputs": [],
   "source": [
    "test = dataprovider.get_test_set()"
   ]
  },
  {
   "cell_type": "code",
   "execution_count": null,
   "metadata": {},
   "outputs": [],
   "source": [
    "train = dataprovider.get_train_set()"
   ]
  },
  {
   "cell_type": "code",
   "execution_count": null,
   "metadata": {},
   "outputs": [],
   "source": [
    "val = dataprovider.get_val_set()"
   ]
  },
  {
   "cell_type": "code",
   "execution_count": null,
   "metadata": {},
   "outputs": [],
   "source": [
    "dartstcn = DartsTCNModel()"
   ]
  },
  {
   "cell_type": "code",
   "execution_count": null,
   "metadata": {},
   "outputs": [],
   "source": [
    "dartstcn.fit(train_data = train, val_data=val)"
   ]
  }
 ],
 "metadata": {
  "kernelspec": {
   "display_name": "venv",
   "language": "python",
   "name": "python3"
  },
  "language_info": {
   "codemirror_mode": {
    "name": "ipython",
    "version": 3
   },
   "file_extension": ".py",
   "mimetype": "text/x-python",
   "name": "python",
   "nbconvert_exporter": "python",
   "pygments_lexer": "ipython3",
   "version": "3.12.3"
  }
 },
 "nbformat": 4,
 "nbformat_minor": 2
}
