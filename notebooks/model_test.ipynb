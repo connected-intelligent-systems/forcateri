{
 "cells": [
  {
   "cell_type": "code",
   "execution_count": null,
   "metadata": {},
   "outputs": [],
   "source": [
    "import sys\n",
    "import os\n",
    "\n",
    "# Add project root to sys.path\n",
    "project_root = os.path.abspath(os.path.join(os.getcwd(), '..'))\n",
    "if project_root not in sys.path:\n",
    "    sys.path.append(project_root)"
   ]
  },
  {
   "cell_type": "code",
   "execution_count": null,
   "metadata": {},
   "outputs": [],
   "source": [
    "from forcateri.model.dartsmodels.dartstcnmodel import DartsTCNModel\n",
    "from forcateri.baltbestapi.baltbestaggregatedapidata import BaltBestAggregatedAPIData\n",
    "import pandas as pd\n",
    "from forcateri.data.dataprovider import DataProvider, SeriesRole\n",
    "from darts.models import TCNModel\n",
    "from darts.utils.likelihood_models import QuantileRegression\n",
    "from forcateri.data.timeseries import TimeSeries"
   ]
  },
  {
   "cell_type": "code",
   "execution_count": null,
   "metadata": {},
   "outputs": [],
   "source": [
    "%load_ext autoreload\n",
    "%autoreload 2 "
   ]
  },
  {
   "cell_type": "code",
   "execution_count": null,
   "metadata": {},
   "outputs": [],
   "source": [
    "# baltbest = BaltBestAggregatedAPIData(\n",
    "#     name='test', \n",
    "#     url=\"baltbest_url\", \n",
    "#     local_copy=\"/home/user/DFKI/forcateri/_data/showcase_data.csv\",\n",
    "#     target = 'q_hca',\n",
    "#     group_col = 'room_id',\n",
    "#     time_col = 'datetime',\n",
    "#     known = 'temperature_outdoor_avg',\n",
    "#     observed = ['temperature_1_max', 'temperature_2_max','temperature_room_avg'],)\n",
    "baltbest = BaltBestAggregatedAPIData(\n",
    "    name='test', \n",
    "    url=\"baltbest_url\", \n",
    "    local_copy=\"/home/user/DFKI/forcateri/_data/hourly_data.csv\",\n",
    "    target = 'delta',\n",
    "    group_col = 'room_id',\n",
    "    time_col = 'rounded_ts',\n",
    "    known = 'outside_temp',\n",
    "    observed = ['max_temperature_1', 'max_temperature_2','room_temperature'],)"
   ]
  },
  {
   "cell_type": "code",
   "execution_count": null,
   "metadata": {},
   "outputs": [],
   "source": [
    "import logging\n",
    "\n",
    "# Get the logger you used in your TimeSeries class\n",
    "logger = logging.getLogger(\"forcateri.data.timeseries\")\n",
    "logger.setLevel(logging.INFO)  # or logging.DEBUG for more verbosity\n",
    "\n",
    "# Create handler if it doesn't exist\n",
    "if not logger.handlers:\n",
    "    handler = logging.StreamHandler()\n",
    "    handler.setLevel(logging.INFO)\n",
    "    formatter = logging.Formatter('%(asctime)s - %(levelname)s - %(message)s')\n",
    "    handler.setFormatter(formatter)\n",
    "    logger.addHandler(handler)\n",
    "\n",
    "# Optional: prevent propagation to avoid double logs\n",
    "logger.propagate = False\n"
   ]
  },
  {
   "cell_type": "code",
   "execution_count": null,
   "metadata": {},
   "outputs": [],
   "source": [
    "\n",
    "#baltbest.get_data()\n"
   ]
  },
  {
   "cell_type": "code",
   "execution_count": null,
   "metadata": {},
   "outputs": [],
   "source": [
    "# roles = {\n",
    "#     'q_hca': SeriesRole.TARGET, \n",
    "#     'temperature_outdoor_avg':SeriesRole.KNOWN, \n",
    "#     'temperature_1_max':SeriesRole.OBSERVED, \n",
    "#     'temperature_2_max':SeriesRole.OBSERVED,\n",
    "#     'temperature_room_avg':SeriesRole.OBSERVED,}\n",
    "#['temperature_1_max', 'temperature_2_max','temperature_room_avg']\n",
    "roles = {\n",
    "    'delta': SeriesRole.TARGET, \n",
    "    'outside_temp':SeriesRole.KNOWN, \n",
    "    'max_temperature_1':SeriesRole.OBSERVED, \n",
    "    'max_temperature_1':SeriesRole.OBSERVED,\n",
    "    'room_temperature':SeriesRole.OBSERVED,}"
   ]
  },
  {
   "cell_type": "code",
   "execution_count": null,
   "metadata": {},
   "outputs": [],
   "source": [
    "start = pd.Timestamp(2021, 1, 3, 4,tz=0)\n",
    "end = pd.Timestamp(2021, 1, 8, 4,tz=0)\n",
    "dataprovider = DataProvider(data_sources=[baltbest], roles=roles, splits=(100,200))"
   ]
  },
  {
   "cell_type": "code",
   "execution_count": null,
   "metadata": {},
   "outputs": [],
   "source": [
    "train = dataprovider.get_train_set()\n",
    "val = dataprovider.get_val_set()\n",
    "test = dataprovider.get_test_set()"
   ]
  },
  {
   "cell_type": "code",
   "execution_count": null,
   "metadata": {},
   "outputs": [],
   "source": [
    "import os\n",
    "#os.environ[\"CUDA_VISIBLE_DEVICES\"] = \"0\"\n",
    "quantiles = [0.1, 0.5, 0.9]\n",
    "dartstcn = DartsTCNModel( quantiles=quantiles)"
   ]
  },
  {
   "cell_type": "code",
   "execution_count": null,
   "metadata": {},
   "outputs": [],
   "source": [
    "dartstcn.fit(train_data = train, val_data=val)"
   ]
  },
  {
   "cell_type": "code",
   "execution_count": null,
   "metadata": {},
   "outputs": [],
   "source": [
    "num_forecast_steps = 2\n",
    "#num_monte_carlo_samples = 50 # A sufficient number of samples to approximate the quantiles\n",
    "\n",
    "prediction = dartstcn.predict(\n",
    "    data=val, # Pass the series used for prediction context\n",
    "    predict_likelihood_parameters = True,\n",
    "    n=num_forecast_steps,\n",
    ")"
   ]
  },
  {
   "cell_type": "code",
   "execution_count": null,
   "metadata": {},
   "outputs": [],
   "source": [
    "from IPython.display import display, Markdown\n",
    "def mprint(s): display(Markdown(s))"
   ]
  },
  {
   "cell_type": "code",
   "execution_count": null,
   "metadata": {},
   "outputs": [],
   "source": [
    "prediction_ts = dartstcn.to_time_series(prediction)"
   ]
  },
  {
   "cell_type": "code",
   "execution_count": null,
   "metadata": {},
   "outputs": [],
   "source": [
    "prediction_ts[0].data"
   ]
  },
  {
   "cell_type": "code",
   "execution_count": null,
   "metadata": {},
   "outputs": [],
   "source": [
    "prediction[0].to_dataframe()"
   ]
  }
 ],
 "metadata": {
  "kernelspec": {
   "display_name": "venv",
   "language": "python",
   "name": "python3"
  },
  "language_info": {
   "codemirror_mode": {
    "name": "ipython",
    "version": 3
   },
   "file_extension": ".py",
   "mimetype": "text/x-python",
   "name": "python",
   "nbconvert_exporter": "python",
   "pygments_lexer": "ipython3",
   "version": "3.12.3"
  }
 },
 "nbformat": 4,
 "nbformat_minor": 2
}
